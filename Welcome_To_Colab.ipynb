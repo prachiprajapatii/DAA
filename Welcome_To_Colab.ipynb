{
  "cells": [
    {
      "cell_type": "markdown",
      "metadata": {
        "id": "view-in-github",
        "colab_type": "text"
      },
      "source": [
        "<a href=\"https://colab.research.google.com/github/prachiprajapatii/DAA/blob/main/Welcome_To_Colab.ipynb\" target=\"_parent\"><img src=\"https://colab.research.google.com/assets/colab-badge.svg\" alt=\"Open In Colab\"/></a>"
      ]
    },
    {
      "cell_type": "code",
      "source": [],
      "metadata": {
        "id": "Xa969OSWFYZk"
      },
      "execution_count": null,
      "outputs": []
    },
    {
      "cell_type": "code",
      "source": [
        "while True:\n",
        "    x=int(input(\"enter number:\"))\n",
        "    y=int(input(\"enter number:\"))\n",
        "    c=input(\"enter operator:\")\n",
        "    if c == \"+\":\n",
        "        print(x+y)\n",
        "    elif c == \"-\":\n",
        "        print(x-y)\n",
        "    elif c == \"*\":\n",
        "        print(x*y)\n",
        "    elif c == \"/\":\n",
        "        print(x/y)\n",
        "    else:\n",
        "        print(\"NAA\")"
      ],
      "metadata": {
        "id": "kJ22sv6JFYum"
      },
      "execution_count": null,
      "outputs": []
    }
  ],
  "metadata": {
    "colab": {
      "name": "Welcome To Colab",
      "provenance": [],
      "include_colab_link": true
    },
    "kernelspec": {
      "display_name": "Python 3",
      "name": "python3"
    }
  },
  "nbformat": 4,
  "nbformat_minor": 0
}